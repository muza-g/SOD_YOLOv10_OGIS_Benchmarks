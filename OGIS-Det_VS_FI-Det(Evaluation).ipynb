{
  "nbformat": 4,
  "nbformat_minor": 0,
  "metadata": {
    "colab": {
      "provenance": [],
      "authorship_tag": "ABX9TyPmM8PK4Ks9wzACP6hW5nkS",
      "include_colab_link": true
    },
    "kernelspec": {
      "name": "python3",
      "display_name": "Python 3"
    },
    "language_info": {
      "name": "python"
    }
  },
  "cells": [
    {
      "cell_type": "markdown",
      "metadata": {
        "id": "view-in-github",
        "colab_type": "text"
      },
      "source": [
        "<a href=\"https://colab.research.google.com/github/muza-g/SOD_YOLOv10_OGIS_Benchmarks/blob/main/OGIS-Det_VS_FI-Det(Evaluation).ipynb\" target=\"_parent\">\n",
        "    <img src=\"https://colab.research.google.com/assets/colab-badge.svg\" alt=\"Open In Colab\"/>\n",
        "</a>"
      ]
    },
    {
      "cell_type": "code",
      "metadata": {
        "id": "connect-gdrive",
        "colab_type": "code"
      },
      "source": [
        "# Optionally connect to Google Drive if files are stored there\n",
        "from google.colab import drive\n",
        "\n",
        "# Mount Google Drive\n",
        "drive.mount('/content/gdrive')\n",
        "\n",
        "# Verify the mounted drive (optional)\n",
        "!ls /content/gdrive/MyDrive/"
      ],
      "execution_count": null,
      "outputs": []
    },
    {
      "cell_type": "code",
      "metadata": {
        "id": "clone-repo",
        "colab_type": "code"
      },
      "source": [
        "# Clone the repository to access required files\n",
        "!git clone https://github.com/muza-g/SOD_YOLOv10_OGIS_Benchmarks.git"
      ],
      "execution_count": null,
      "outputs": []
    },
    {
      "cell_type": "code",
      "metadata": {
        "id": "install-dependencies",
        "colab_type": "code"
      },
      "source": [
        "# Install pycocotools for COCO evaluation\n",
        "!pip install pycocotools"
      ],
      "execution_count": null,
      "outputs": []
    },
    {
      "cell_type": "code",
      "metadata": {
        "id": "evaluate-coco",
        "colab_type": "code"
      },
      "source": [
        "from pycocotools.coco import COCO\n",
        "from pycocotools.cocoeval import COCOeval\n",
        "\n",
        "# Paths to Ground Truth and Predictions (Update these as necessary)\n",
        "GROUND_TRUTH_PATH = \"/content/SOD_YOLOv10_OGIS_Benchmarks/Ground_Trouth-COCO.json\"\n",
        "PREDICTIONS_PATH = \"/content/SOD_YOLOv10_OGIS_Benchmarks/FI_yolo11n(1).json\"\n",
        "\n",
        "def load_coco_data(ground_truth_path, predictions_path):\n",
        "    \"\"\"Loads COCO Ground Truth and Predictions.\"\"\"\n",
        "    print(\"Loading Ground Truth...\")\n",
        "    coco_gt = COCO(ground_truth_path)\n",
        "    print(\"Loading Predictions...\")\n",
        "    coco_pred = coco_gt.loadRes(predictions_path)\n",
        "    return coco_gt, coco_pred\n",
        "\n",
        "def evaluate_coco(coco_gt, coco_pred):\n",
        "    \"\"\"Evaluates predictions using COCO Evaluation metrics.\"\"\"\n",
        "    print(\"Evaluating...\")\n",
        "    coco_eval = COCOeval(coco_gt, coco_pred, iouType='bbox')\n",
        "    coco_eval.evaluate()\n",
        "    coco_eval.accumulate()\n",
        "    coco_eval.summarize()\n",
        "\n",
        "# Main Evaluation Process\n",
        "try:\n",
        "    # Load Data\n",
        "    coco_gt, coco_pred = load_coco_data(GROUND_TRUTH_PATH, PREDICTIONS_PATH)\n",
        "\n",
        "    # Perform Evaluation\n",
        "    evaluate_coco(coco_gt, coco_pred)\n",
        "except Exception as e:\n",
        "    print(f\"Error: {e}\")"
      ],
      "execution_count": null,
      "outputs": []
    }
  ]
}
